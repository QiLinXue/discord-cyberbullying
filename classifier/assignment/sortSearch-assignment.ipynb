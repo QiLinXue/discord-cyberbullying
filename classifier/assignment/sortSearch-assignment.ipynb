{
 "cells": [
  {
   "cell_type": "markdown",
   "metadata": {},
   "source": [
    "# Sorting\n",
    "Quick prototype sorting document to demonstrate my understanding of sorting algorithms because training my neural network takes way too much time, even with a Naive Bayes Classifier. I just don't want to fail this course."
   ]
  },
  {
   "cell_type": "code",
   "execution_count": 97,
   "metadata": {},
   "outputs": [],
   "source": [
    "# Imports\n",
    "from textblob import TextBlob\n",
    "import csv\n",
    "import pickle\n",
    "import os\n",
    "import re"
   ]
  },
  {
   "cell_type": "code",
   "execution_count": 98,
   "metadata": {},
   "outputs": [
    {
     "data": {
      "text/plain": [
       "[[\"Explanation\\nWhy the edits made under my username Hardcore Metallica Fan were reverted? They weren't vandalisms, just closure on some GAs after I voted at New York Dolls FAC. And please don't remove the template from the talk page since I'm retired now.89.205.38.27\",\n",
       "  '0',\n",
       "  '0',\n",
       "  '0',\n",
       "  '0',\n",
       "  '0',\n",
       "  '0'],\n",
       " [\"D'aww! He matches this background colour I'm seemingly stuck with. Thanks.  (talk) 21:51, January 11, 2016 (UTC)\",\n",
       "  '0',\n",
       "  '0',\n",
       "  '0',\n",
       "  '0',\n",
       "  '0',\n",
       "  '0'],\n",
       " [\"Hey man, I'm really not trying to edit war. It's just that this guy is constantly removing relevant information and talking to me through edits instead of my talk page. He seems to care more about the formatting than the actual info.\",\n",
       "  '0',\n",
       "  '0',\n",
       "  '0',\n",
       "  '0',\n",
       "  '0',\n",
       "  '0'],\n",
       " ['\"\\nMore\\nI can\\'t make any real suggestions on improvement - I wondered if the section statistics should be later on, or a subsection of \"\"types of accidents\"\"  -I think the references may need tidying so that they are all in the exact same format ie date format etc. I can do that later on, if no-one else does first - if you have any preferences for formatting style on references or want to do it yourself please let me know.\\n\\nThere appears to be a backlog on articles for review so I guess there may be a delay until a reviewer turns up. It\\'s listed in the relevant form eg Wikipedia:Good_article_nominations#Transport  \"',\n",
       "  '0',\n",
       "  '0',\n",
       "  '0',\n",
       "  '0',\n",
       "  '0',\n",
       "  '0']]"
      ]
     },
     "execution_count": 98,
     "metadata": {},
     "output_type": "execute_result"
    }
   ],
   "source": [
    "# Save datasets and print out first 4 lines\n",
    "\n",
    "with open('../data/wikipedia-bully.csv', encoding=\"utf8\") as f:\n",
    "    wikipediaBullyData = [line[1:] for line in csv.reader(f)]\n",
    "\n",
    "wikipediaBullyData = wikipediaBullyData[1:]\n",
    "wikipediaBullyData[:4]"
   ]
  },
  {
   "cell_type": "markdown",
   "metadata": {},
   "source": [
    "# Give Each Message A Score\n",
    "* First Score is toxicity (0-5)\n",
    "* Second Score is length of message (# of words)"
   ]
  },
  {
   "cell_type": "code",
   "execution_count": 99,
   "metadata": {},
   "outputs": [
    {
     "data": {
      "text/plain": [
       "[[\"Explanation\\nWhy the edits made under my username Hardcore Metallica Fan were reverted? They weren't vandalisms, just closure on some GAs after I voted at New York Dolls FAC. And please don't remove the template from the talk page since I'm retired now.89.205.38.27\",\n",
       "  0,\n",
       "  42],\n",
       " [\"D'aww! He matches this background colour I'm seemingly stuck with. Thanks.  (talk) 21:51, January 11, 2016 (UTC)\",\n",
       "  0,\n",
       "  18],\n",
       " [\"Hey man, I'm really not trying to edit war. It's just that this guy is constantly removing relevant information and talking to me through edits instead of my talk page. He seems to care more about the formatting than the actual info.\",\n",
       "  0,\n",
       "  42],\n",
       " ['\"\\nMore\\nI can\\'t make any real suggestions on improvement - I wondered if the section statistics should be later on, or a subsection of \"\"types of accidents\"\"  -I think the references may need tidying so that they are all in the exact same format ie date format etc. I can do that later on, if no-one else does first - if you have any preferences for formatting style on references or want to do it yourself please let me know.\\n\\nThere appears to be a backlog on articles for review so I guess there may be a delay until a reviewer turns up. It\\'s listed in the relevant form eg Wikipedia:Good_article_nominations#Transport  \"',\n",
       "  0,\n",
       "  112]]"
      ]
     },
     "execution_count": 99,
     "metadata": {},
     "output_type": "execute_result"
    }
   ],
   "source": [
    "wikipediaBullyDataScored = []\n",
    "\n",
    "# Update wikipediaBullyDataScored\n",
    "for row in wikipediaBullyData:\n",
    "    # Get Toxicity and Word Count\n",
    "    toxicity = int(row[1])+int(row[2])+int(row[3])+int(row[4])+int(row[5])+int(row[6])\n",
    "    words = row[0].count(' ') + 1\n",
    "    \n",
    "    # Append scores to new list\n",
    "    line = [row[0],toxicity,words]\n",
    "    wikipediaBullyDataScored.append(line)\n",
    "\n",
    "wikipediaBullyDataScored[:4]"
   ]
  },
  {
   "cell_type": "markdown",
   "metadata": {},
   "source": [
    "# Bubble Sort Implementation\n",
    "* Sort data by profanity\n",
    "* Sort data by word count"
   ]
  },
  {
   "cell_type": "code",
   "execution_count": 100,
   "metadata": {},
   "outputs": [],
   "source": [
    "def bubbleSort(temp,index):\n",
    "    '''\n",
    "    Sorts a 2D array with bubble sort\n",
    "    \n",
    "    Parameters\n",
    "    ----------\n",
    "    arr: 2D array\n",
    "        The array to be sorted, each row must be in the form of [any,int,int]\n",
    "        \n",
    "    index: int\n",
    "        Determines which variable to sort by (1=profanity, 2=word count)\n",
    "    \n",
    "    Returns\n",
    "    -------\n",
    "    2D array\n",
    "        Same format as arr but sorted\n",
    "    '''\n",
    "    arr = temp.copy()\n",
    "    n = len(arr)\n",
    " \n",
    "    for i in range(n):\n",
    " \n",
    "        for j in range(0, n-i-1):\n",
    " \n",
    "            key1, key2 = arr[j][index], arr[j+1][index]\n",
    "            if key1 > key2:\n",
    "                arr[j], arr[j+1] = arr[j+1], arr[j]\n",
    "    return arr"
   ]
  },
  {
   "cell_type": "code",
   "execution_count": 8,
   "metadata": {},
   "outputs": [
    {
     "name": "stdout",
     "output_type": "stream",
     "text": [
      "Wall time: 134 ms\n"
     ]
    }
   ],
   "source": [
    "%%time\n",
    "wikipediaBullyDataScored1 = bubbleSort(wikipediaBullyDataScored[:1000],1)"
   ]
  },
  {
   "cell_type": "markdown",
   "metadata": {},
   "source": [
    "# Python Default Sort Implementation\n",
    "* Sort data by first profanity"
   ]
  },
  {
   "cell_type": "code",
   "execution_count": 4,
   "metadata": {},
   "outputs": [],
   "source": [
    "def defaultSort(arr,index):\n",
    "    '''\n",
    "    Sorts a 2D array with the default python sort method\n",
    "    \n",
    "    Parameters\n",
    "    ----------\n",
    "    arr: 2D array\n",
    "        The array to be sorted, each row must be in the form of [any,int,int]\n",
    "        \n",
    "    index: int\n",
    "        Determines which variable to sort by (1=profanity, 2=word count)\n",
    "    \n",
    "    Returns\n",
    "    -------\n",
    "    None\n",
    "    '''\n",
    "    arr = arr.sort(key=lambda x: x[index])"
   ]
  },
  {
   "cell_type": "code",
   "execution_count": 84,
   "metadata": {},
   "outputs": [
    {
     "name": "stdout",
     "output_type": "stream",
     "text": [
      "Wall time: 35.9 ms\n"
     ]
    }
   ],
   "source": [
    "%%time\n",
    "wikipediaBullyDataScored2 = wikipediaBullyDataScored.copy()\n",
    "defaultSort(wikipediaBullyDataScored2,1)"
   ]
  },
  {
   "cell_type": "code",
   "execution_count": 85,
   "metadata": {},
   "outputs": [
    {
     "name": "stdout",
     "output_type": "stream",
     "text": [
      "Wall time: 76.8 ms\n"
     ]
    }
   ],
   "source": [
    "%%time\n",
    "wikipediaBullyDataScored5 = wikipediaBullyDataScored.copy()\n",
    "defaultSort(wikipediaBullyDataScored5,2)"
   ]
  },
  {
   "cell_type": "markdown",
   "metadata": {},
   "source": [
    "# Insertion Sort Implementation\n",
    "* Sort data by profanity\n",
    "* Sort data by number of words"
   ]
  },
  {
   "cell_type": "code",
   "execution_count": 5,
   "metadata": {},
   "outputs": [],
   "source": [
    "def insertionSort(arr,index):\n",
    "    '''\n",
    "    Sorts a 2D array with insertion sort\n",
    "    \n",
    "    Parameters\n",
    "    ----------\n",
    "    arr: 2D array\n",
    "        The array to be sorted, each row must be in the form of [any,int,int]\n",
    "        \n",
    "    index: int\n",
    "        Determines which variable to sort by (1=profanity, 2=word count)\n",
    "    \n",
    "    Returns\n",
    "    -------\n",
    "    None\n",
    "    '''\n",
    "    temp= [x[index] for x in arr]\n",
    "\n",
    "    for i in range(1, len(arr)):\n",
    "        key = temp[i]\n",
    "        key2 = arr[i]\n",
    "        j = i-1\n",
    "\n",
    "        while j >= 0 and key < temp[j]:\n",
    "            arr[j+1]=arr[j]\n",
    "            temp[j+1]=temp[j]\n",
    "            j -= 1\n",
    "\n",
    "        temp[j+1] = key\n",
    "        arr[j+1] = key2\n",
    "    \n",
    "    return arr"
   ]
  },
  {
   "cell_type": "code",
   "execution_count": 11,
   "metadata": {},
   "outputs": [
    {
     "name": "stdout",
     "output_type": "stream",
     "text": [
      "Wall time: 12min 20s\n"
     ]
    }
   ],
   "source": [
    "%%time\n",
    "wikipediaBullyDataScored3 = insertionSort(wikipediaBullyDataScored,1)"
   ]
  },
  {
   "cell_type": "code",
   "execution_count": 6,
   "metadata": {},
   "outputs": [
    {
     "name": "stdout",
     "output_type": "stream",
     "text": [
      "Wall time: 38min 40s\n"
     ]
    }
   ],
   "source": [
    "%%time\n",
    "wikipediaBullyDataScored6 = insertionSort(wikipediaBullyDataScored,2)"
   ]
  },
  {
   "cell_type": "markdown",
   "metadata": {},
   "source": [
    "# Searching"
   ]
  },
  {
   "cell_type": "code",
   "execution_count": 1,
   "metadata": {},
   "outputs": [],
   "source": [
    "# Linear Search"
   ]
  },
  {
   "cell_type": "code",
   "execution_count": 59,
   "metadata": {},
   "outputs": [],
   "source": [
    "def linearSearch(arr,item):\n",
    "    '''\n",
    "    Looks for an item in an unsorted array\n",
    "    \n",
    "    Parameters\n",
    "    ----------\n",
    "    arr: 2D array\n",
    "        The unsorted array, each row must be in the form of [any,int,int]\n",
    "        \n",
    "    item: str\n",
    "        The item which the function wants to look for\n",
    "    \n",
    "    Returns\n",
    "    -------\n",
    "    int:\n",
    "        if not found: -1\n",
    "        if found: the index\n",
    "    '''\n",
    "    for i, row in enumerate(wikipediaBullyDataScored):\n",
    "        if row[0] == item:\n",
    "            return i\n",
    "    return -1"
   ]
  },
  {
   "cell_type": "code",
   "execution_count": 60,
   "metadata": {},
   "outputs": [
    {
     "name": "stdout",
     "output_type": "stream",
     "text": [
      "Wall time: 14 ms\n"
     ]
    },
    {
     "data": {
      "text/plain": [
       "50042"
      ]
     },
     "execution_count": 60,
     "metadata": {},
     "output_type": "execute_result"
    }
   ],
   "source": [
    "%%time\n",
    "linearSearch(wikipediaBullyDataScored,\"Complaints/Mistakes\")"
   ]
  },
  {
   "cell_type": "code",
   "execution_count": 106,
   "metadata": {},
   "outputs": [],
   "source": [
    "def binarySearch(arr,item):\n",
    "    '''\n",
    "    Looks for an item in a sorted array\n",
    "    \n",
    "    Parameters\n",
    "    ----------\n",
    "    arr: 2D array\n",
    "        The unsorted array, each row must be in the form of [any,int,int]\n",
    "        \n",
    "    item: str\n",
    "        The item which the function wants to look for\n",
    "    \n",
    "    Returns\n",
    "    -------\n",
    "    int:\n",
    "        if not found: -1\n",
    "        if found: the index\n",
    "    '''\n",
    "    \n",
    "    first = 0\n",
    "    last = len(arr)-1\n",
    "    found = -1\n",
    "\n",
    "    while(first <= last and found < 0):\n",
    "        mid = (first + last)//2\n",
    "        if arr[mid][0] == item : found = mid\n",
    "        else:\n",
    "            if item < arr[mid][0]: last = mid - 1\n",
    "            else: first = mid + 1\n",
    "    return found"
   ]
  },
  {
   "cell_type": "code",
   "execution_count": 116,
   "metadata": {},
   "outputs": [
    {
     "name": "stdout",
     "output_type": "stream",
     "text": [
      "Wall time: 180 ms\n"
     ]
    }
   ],
   "source": [
    "%%time\n",
    "wikipediaBullyDataScored7 = wikipediaBullyDataScored.copy()\n",
    "defaultSort(wikipediaBullyDataScored7,1)\n",
    "binarySearch(wikipediaBullyDataScored7,\"Explanation\\nWhy the edits made under my username Hardcore Metallica Fan were reverted? They weren't vandalisms, just closure on some GAs after I voted at New York Dolls FAC. And please don't remove the template from the talk page since I'm retired now.89.205.38.27\")"
   ]
  }
 ],
 "metadata": {
  "kernelspec": {
   "display_name": "Python 3",
   "language": "python",
   "name": "python3"
  },
  "language_info": {
   "codemirror_mode": {
    "name": "ipython",
    "version": 3
   },
   "file_extension": ".py",
   "mimetype": "text/x-python",
   "name": "python",
   "nbconvert_exporter": "python",
   "pygments_lexer": "ipython3",
   "version": "3.6.0"
  }
 },
 "nbformat": 4,
 "nbformat_minor": 2
}
